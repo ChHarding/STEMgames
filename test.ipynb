{
 "metadata": {
  "language_info": {
   "codemirror_mode": {
    "name": "ipython",
    "version": 3
   },
   "file_extension": ".py",
   "mimetype": "text/x-python",
   "name": "python",
   "nbconvert_exporter": "python",
   "pygments_lexer": "ipython3",
   "version": "3.9.5"
  },
  "orig_nbformat": 4,
  "kernelspec": {
   "name": "python3",
   "display_name": "Python 3.9.5 64-bit (windows store)"
  },
  "interpreter": {
   "hash": "3705555de6e98b516f0798602772c05a16f2cecb14601760733bab7b135c9c9a"
  }
 },
 "nbformat": 4,
 "nbformat_minor": 2,
 "cells": [
  {
   "cell_type": "code",
   "execution_count": 49,
   "metadata": {},
   "outputs": [],
   "source": [
    "import pandas as pd\n",
    "import requests\n",
    "from pprint import pprint\n",
    "import nltk"
   ]
  },
  {
   "cell_type": "code",
   "execution_count": 50,
   "metadata": {},
   "outputs": [],
   "source": [
    "def get_reviews(appid, params): \n",
    "        url_start = 'https://store.steampowered.com/appreviews/'\n",
    "        try:\n",
    "            response = requests.get(url=url_start+str(appid), params=params, headers={'User-Agent': 'Mozilla/5.0'})\n",
    "        except:\n",
    "                return {'reviews' : []}\n",
    "        return response.json() # return data extracted from the json response\n",
    "\n"
   ]
  },
  {
   "cell_type": "code",
   "execution_count": 51,
   "metadata": {},
   "outputs": [],
   "source": [
    "reviews = []\n",
    "cursor = '*'\n",
    "params = { # https://partner.steamgames.com/doc/store/getreviews\n",
    "    'json' : 1,\n",
    "    'filter' : 'all', # sort by: recent, updated, all (helpfulness)\n",
    "    'language' : 'english', # https://partner.steamgames.com/doc/store/localization\n",
    "    'day_range' : 9223372036854775807, # shows reviews from all time\n",
    "    'review_type' : 'all', # all, positive, negative\n",
    "    'purchase_type' : 'all', # all, non_steam_purchase, steam\n",
    "    'num_per_page' : 50,\n",
    "    'cursor' : '*'.encode()\n",
    "}"
   ]
  },
  {
   "cell_type": "code",
   "execution_count": 52,
   "metadata": {
    "tags": []
   },
   "outputs": [],
   "source": [
    "app_dict = {}\n",
    "app_ids = (24780, 570940, 1328670)\n",
    "for i, app_id in enumerate(app_ids):\n",
    "    l = get_reviews(app_id, params)['reviews']\n",
    "    app_dict[app_id] = l\n",
    "   \n",
    "\n"
   ]
  },
  {
   "cell_type": "code",
   "execution_count": 54,
   "metadata": {
    "tags": []
   },
   "outputs": [
    {
     "output_type": "stream",
     "name": "stdout",
     "text": [
      "{24780: {'biological': 0,\n         'education': 3,\n         'game': 33,\n         'historical': 0,\n         'learning': 0,\n         'player': 2,\n         'scientific': 0},\n 570940: {'biological': 0,\n          'education': 0,\n          'game': 24,\n          'historical': 0,\n          'learning': 0,\n          'player': 6,\n          'scientific': 0},\n 1328670: {'biological': 0,\n           'education': 0,\n           'game': 29,\n           'historical': 0,\n           'learning': 0,\n           'player': 3,\n           'scientific': 0}}\n"
     ]
    }
   ],
   "source": [
    "STEM_words  = [\"game\", \"player\", \"scientific\", \"biological\", \"learning\", \"education\", \"historical\"]\n",
    "#app_freq[123] = {\"game\":2, \"player\":3\n",
    "app_freq = {}\n",
    "scraped_apps = list(app_dict.keys())\n",
    "for a in scraped_apps:\n",
    "    rl = app_dict[a]\n",
    "    d = {sw:0 for sw in STEM_words}\n",
    "    for i,r in enumerate(rl):\n",
    "        rev_str = r[\"review\"]\n",
    "        #print(\"***\", len(rev_str))\n",
    "        words = nltk.word_tokenize(rev_str)\n",
    "        lwords = [w.lower() for w in words]\n",
    "        for sw in STEM_words:\n",
    "            if sw in lwords:\n",
    "                #print(a, i,\"found\", sw)\n",
    "                d[sw] = d[sw] + 1\n",
    "    app_freq[a] = d\n",
    "\n",
    "pprint(app_freq)\n",
    "\n"
   ]
  },
  {
   "cell_type": "code",
   "execution_count": 58,
   "metadata": {
    "tags": []
   },
   "outputs": [
    {
     "output_type": "stream",
     "name": "stdout",
     "text": [
      "         game  player  scientific  biological  learning  education  historical\n24780      33       2           0           0         0          3           0\n570940     24       6           0           0         0          0           0\n1328670    29       3           0           0         0          0           0\n"
     ]
    }
   ],
   "source": [
    "df = pd.DataFrame.from_dict(app_freq, orient=\"index\")\n",
    "pprint (df)\n",
    "\n"
   ]
  },
  {
   "cell_type": "code",
   "execution_count": null,
   "metadata": {},
   "outputs": [],
   "source": []
  },
  {
   "cell_type": "code",
   "execution_count": 57,
   "metadata": {},
   "outputs": [
    {
     "output_type": "error",
     "ename": "NameError",
     "evalue": "name 'r1' is not defined",
     "traceback": [
      "\u001b[1;31m---------------------------------------------------------------------------\u001b[0m",
      "\u001b[1;31mNameError\u001b[0m                                 Traceback (most recent call last)",
      "\u001b[1;32m<ipython-input-57-8fa051c87728>\u001b[0m in \u001b[0;36m<module>\u001b[1;34m\u001b[0m\n\u001b[0;32m      1\u001b[0m \u001b[0mr0\u001b[0m \u001b[1;33m=\u001b[0m \u001b[0mrl\u001b[0m\u001b[1;33m[\u001b[0m\u001b[1;36m0\u001b[0m\u001b[1;33m]\u001b[0m\u001b[1;33m\u001b[0m\u001b[1;33m\u001b[0m\u001b[0m\n\u001b[0;32m      2\u001b[0m \u001b[0mr0\u001b[0m\u001b[1;33m[\u001b[0m\u001b[1;34m'review'\u001b[0m\u001b[1;33m]\u001b[0m\u001b[1;33m\u001b[0m\u001b[1;33m\u001b[0m\u001b[0m\n\u001b[1;32m----> 3\u001b[1;33m \u001b[0mr1\u001b[0m\u001b[1;33m[\u001b[0m\u001b[1;34m\"review\"\u001b[0m\u001b[1;33m]\u001b[0m\u001b[1;33m\u001b[0m\u001b[1;33m\u001b[0m\u001b[0m\n\u001b[0m",
      "\u001b[1;31mNameError\u001b[0m: name 'r1' is not defined"
     ]
    }
   ],
   "source": [
    "r0 = rl[0]\n",
    "r0['review']\n"
   ]
  },
  {
   "cell_type": "code",
   "execution_count": null,
   "metadata": {},
   "outputs": [],
   "source": []
  }
 ]
}